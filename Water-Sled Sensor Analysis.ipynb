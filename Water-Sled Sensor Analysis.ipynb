{
 "cells": [
  {
   "cell_type": "markdown",
   "metadata": {},
   "source": [
    "## SET UP"
   ]
  },
  {
   "cell_type": "code",
   "execution_count": 1526,
   "metadata": {},
   "outputs": [],
   "source": [
    "import matplotlib.pyplot as plt"
   ]
  },
  {
   "cell_type": "code",
   "execution_count": 1527,
   "metadata": {},
   "outputs": [],
   "source": [
    "import numpy as np"
   ]
  },
  {
   "cell_type": "code",
   "execution_count": 1528,
   "metadata": {},
   "outputs": [],
   "source": [
    "import pandas as pd"
   ]
  },
  {
   "cell_type": "code",
   "execution_count": 1529,
   "metadata": {},
   "outputs": [],
   "source": [
    "data = pd.read_csv(\"DOC000.csv\")"
   ]
  },
  {
   "cell_type": "code",
   "execution_count": 1530,
   "metadata": {},
   "outputs": [
    {
     "data": {
      "text/html": [
       "<div>\n",
       "<style scoped>\n",
       "    .dataframe tbody tr th:only-of-type {\n",
       "        vertical-align: middle;\n",
       "    }\n",
       "\n",
       "    .dataframe tbody tr th {\n",
       "        vertical-align: top;\n",
       "    }\n",
       "\n",
       "    .dataframe thead th {\n",
       "        text-align: right;\n",
       "    }\n",
       "</style>\n",
       "<table border=\"1\" class=\"dataframe\">\n",
       "  <thead>\n",
       "    <tr style=\"text-align: right;\">\n",
       "      <th></th>\n",
       "      <th>Time</th>\n",
       "      <th>Inside-Temp</th>\n",
       "      <th>Humidity</th>\n",
       "      <th>Red</th>\n",
       "      <th>Green</th>\n",
       "      <th>Blue</th>\n",
       "      <th>Out-Temp</th>\n",
       "      <th>Out1-Temp</th>\n",
       "      <th>Pressure</th>\n",
       "      <th>Depth</th>\n",
       "      <th>Altitude</th>\n",
       "    </tr>\n",
       "  </thead>\n",
       "  <tbody>\n",
       "    <tr>\n",
       "      <th>count</th>\n",
       "      <td>27.000000</td>\n",
       "      <td>27.000000</td>\n",
       "      <td>27.000000</td>\n",
       "      <td>27.000000</td>\n",
       "      <td>27.000000</td>\n",
       "      <td>27.000000</td>\n",
       "      <td>27.000000</td>\n",
       "      <td>27.000000</td>\n",
       "      <td>27.000000</td>\n",
       "      <td>27.000000</td>\n",
       "      <td>27.000000</td>\n",
       "    </tr>\n",
       "    <tr>\n",
       "      <th>mean</th>\n",
       "      <td>14.000000</td>\n",
       "      <td>22.048148</td>\n",
       "      <td>55.040741</td>\n",
       "      <td>343.407407</td>\n",
       "      <td>329.148148</td>\n",
       "      <td>163.370370</td>\n",
       "      <td>20.672222</td>\n",
       "      <td>21.588519</td>\n",
       "      <td>1000.362963</td>\n",
       "      <td>-0.129630</td>\n",
       "      <td>107.787037</td>\n",
       "    </tr>\n",
       "    <tr>\n",
       "      <th>std</th>\n",
       "      <td>7.937254</td>\n",
       "      <td>0.231002</td>\n",
       "      <td>1.300373</td>\n",
       "      <td>220.928854</td>\n",
       "      <td>189.607226</td>\n",
       "      <td>141.090301</td>\n",
       "      <td>0.027919</td>\n",
       "      <td>0.003620</td>\n",
       "      <td>0.323619</td>\n",
       "      <td>0.004369</td>\n",
       "      <td>2.722452</td>\n",
       "    </tr>\n",
       "    <tr>\n",
       "      <th>min</th>\n",
       "      <td>1.000000</td>\n",
       "      <td>21.700000</td>\n",
       "      <td>54.000000</td>\n",
       "      <td>159.000000</td>\n",
       "      <td>141.000000</td>\n",
       "      <td>61.000000</td>\n",
       "      <td>20.630000</td>\n",
       "      <td>21.580000</td>\n",
       "      <td>999.600000</td>\n",
       "      <td>-0.140000</td>\n",
       "      <td>103.270000</td>\n",
       "    </tr>\n",
       "    <tr>\n",
       "      <th>25%</th>\n",
       "      <td>7.500000</td>\n",
       "      <td>21.850000</td>\n",
       "      <td>54.100000</td>\n",
       "      <td>166.500000</td>\n",
       "      <td>152.000000</td>\n",
       "      <td>68.000000</td>\n",
       "      <td>20.630000</td>\n",
       "      <td>21.590000</td>\n",
       "      <td>1000.150000</td>\n",
       "      <td>-0.130000</td>\n",
       "      <td>105.790000</td>\n",
       "    </tr>\n",
       "    <tr>\n",
       "      <th>50%</th>\n",
       "      <td>14.000000</td>\n",
       "      <td>22.000000</td>\n",
       "      <td>54.500000</td>\n",
       "      <td>348.000000</td>\n",
       "      <td>338.000000</td>\n",
       "      <td>148.000000</td>\n",
       "      <td>20.690000</td>\n",
       "      <td>21.590000</td>\n",
       "      <td>1000.300000</td>\n",
       "      <td>-0.130000</td>\n",
       "      <td>108.320000</td>\n",
       "    </tr>\n",
       "    <tr>\n",
       "      <th>75%</th>\n",
       "      <td>20.500000</td>\n",
       "      <td>22.250000</td>\n",
       "      <td>55.500000</td>\n",
       "      <td>358.000000</td>\n",
       "      <td>361.000000</td>\n",
       "      <td>174.500000</td>\n",
       "      <td>20.690000</td>\n",
       "      <td>21.590000</td>\n",
       "      <td>1000.600000</td>\n",
       "      <td>-0.130000</td>\n",
       "      <td>109.580000</td>\n",
       "    </tr>\n",
       "    <tr>\n",
       "      <th>max</th>\n",
       "      <td>27.000000</td>\n",
       "      <td>22.400000</td>\n",
       "      <td>59.300000</td>\n",
       "      <td>1250.000000</td>\n",
       "      <td>889.000000</td>\n",
       "      <td>670.000000</td>\n",
       "      <td>20.690000</td>\n",
       "      <td>21.590000</td>\n",
       "      <td>1000.900000</td>\n",
       "      <td>-0.120000</td>\n",
       "      <td>114.200000</td>\n",
       "    </tr>\n",
       "  </tbody>\n",
       "</table>\n",
       "</div>"
      ],
      "text/plain": [
       "            Time  Inside-Temp   Humidity          Red       Green        Blue  \\\n",
       "count  27.000000    27.000000  27.000000    27.000000   27.000000   27.000000   \n",
       "mean   14.000000    22.048148  55.040741   343.407407  329.148148  163.370370   \n",
       "std     7.937254     0.231002   1.300373   220.928854  189.607226  141.090301   \n",
       "min     1.000000    21.700000  54.000000   159.000000  141.000000   61.000000   \n",
       "25%     7.500000    21.850000  54.100000   166.500000  152.000000   68.000000   \n",
       "50%    14.000000    22.000000  54.500000   348.000000  338.000000  148.000000   \n",
       "75%    20.500000    22.250000  55.500000   358.000000  361.000000  174.500000   \n",
       "max    27.000000    22.400000  59.300000  1250.000000  889.000000  670.000000   \n",
       "\n",
       "        Out-Temp  Out1-Temp     Pressure      Depth    Altitude  \n",
       "count  27.000000  27.000000    27.000000  27.000000   27.000000  \n",
       "mean   20.672222  21.588519  1000.362963  -0.129630  107.787037  \n",
       "std     0.027919   0.003620     0.323619   0.004369    2.722452  \n",
       "min    20.630000  21.580000   999.600000  -0.140000  103.270000  \n",
       "25%    20.630000  21.590000  1000.150000  -0.130000  105.790000  \n",
       "50%    20.690000  21.590000  1000.300000  -0.130000  108.320000  \n",
       "75%    20.690000  21.590000  1000.600000  -0.130000  109.580000  \n",
       "max    20.690000  21.590000  1000.900000  -0.120000  114.200000  "
      ]
     },
     "execution_count": 1530,
     "metadata": {},
     "output_type": "execute_result"
    }
   ],
   "source": [
    "data.describe()"
   ]
  },
  {
   "cell_type": "markdown",
   "metadata": {},
   "source": [
    "## Restrictions--Data Normalizing  (Not RGB)"
   ]
  },
  {
   "cell_type": "code",
   "execution_count": 1531,
   "metadata": {},
   "outputs": [],
   "source": [
    "data = data[data[\"Inside-Temp\"] != -999]"
   ]
  },
  {
   "cell_type": "code",
   "execution_count": 1532,
   "metadata": {},
   "outputs": [],
   "source": [
    "data = data[data[\"Out-Temp\"] != 999]"
   ]
  },
  {
   "cell_type": "code",
   "execution_count": 1533,
   "metadata": {},
   "outputs": [
    {
     "data": {
      "text/html": [
       "<div>\n",
       "<style scoped>\n",
       "    .dataframe tbody tr th:only-of-type {\n",
       "        vertical-align: middle;\n",
       "    }\n",
       "\n",
       "    .dataframe tbody tr th {\n",
       "        vertical-align: top;\n",
       "    }\n",
       "\n",
       "    .dataframe thead th {\n",
       "        text-align: right;\n",
       "    }\n",
       "</style>\n",
       "<table border=\"1\" class=\"dataframe\">\n",
       "  <thead>\n",
       "    <tr style=\"text-align: right;\">\n",
       "      <th></th>\n",
       "      <th>Time</th>\n",
       "      <th>Inside-Temp</th>\n",
       "      <th>Humidity</th>\n",
       "      <th>Red</th>\n",
       "      <th>Green</th>\n",
       "      <th>Blue</th>\n",
       "      <th>Out-Temp</th>\n",
       "      <th>Out1-Temp</th>\n",
       "      <th>Pressure</th>\n",
       "      <th>Depth</th>\n",
       "      <th>Altitude</th>\n",
       "    </tr>\n",
       "  </thead>\n",
       "  <tbody>\n",
       "    <tr>\n",
       "      <th>count</th>\n",
       "      <td>27.000000</td>\n",
       "      <td>27.000000</td>\n",
       "      <td>27.000000</td>\n",
       "      <td>27.000000</td>\n",
       "      <td>27.000000</td>\n",
       "      <td>27.000000</td>\n",
       "      <td>27.000000</td>\n",
       "      <td>27.000000</td>\n",
       "      <td>27.000000</td>\n",
       "      <td>27.000000</td>\n",
       "      <td>27.000000</td>\n",
       "    </tr>\n",
       "    <tr>\n",
       "      <th>mean</th>\n",
       "      <td>14.000000</td>\n",
       "      <td>22.048148</td>\n",
       "      <td>55.040741</td>\n",
       "      <td>343.407407</td>\n",
       "      <td>329.148148</td>\n",
       "      <td>163.370370</td>\n",
       "      <td>20.672222</td>\n",
       "      <td>21.588519</td>\n",
       "      <td>1000.362963</td>\n",
       "      <td>-0.129630</td>\n",
       "      <td>107.787037</td>\n",
       "    </tr>\n",
       "    <tr>\n",
       "      <th>std</th>\n",
       "      <td>7.937254</td>\n",
       "      <td>0.231002</td>\n",
       "      <td>1.300373</td>\n",
       "      <td>220.928854</td>\n",
       "      <td>189.607226</td>\n",
       "      <td>141.090301</td>\n",
       "      <td>0.027919</td>\n",
       "      <td>0.003620</td>\n",
       "      <td>0.323619</td>\n",
       "      <td>0.004369</td>\n",
       "      <td>2.722452</td>\n",
       "    </tr>\n",
       "    <tr>\n",
       "      <th>min</th>\n",
       "      <td>1.000000</td>\n",
       "      <td>21.700000</td>\n",
       "      <td>54.000000</td>\n",
       "      <td>159.000000</td>\n",
       "      <td>141.000000</td>\n",
       "      <td>61.000000</td>\n",
       "      <td>20.630000</td>\n",
       "      <td>21.580000</td>\n",
       "      <td>999.600000</td>\n",
       "      <td>-0.140000</td>\n",
       "      <td>103.270000</td>\n",
       "    </tr>\n",
       "    <tr>\n",
       "      <th>25%</th>\n",
       "      <td>7.500000</td>\n",
       "      <td>21.850000</td>\n",
       "      <td>54.100000</td>\n",
       "      <td>166.500000</td>\n",
       "      <td>152.000000</td>\n",
       "      <td>68.000000</td>\n",
       "      <td>20.630000</td>\n",
       "      <td>21.590000</td>\n",
       "      <td>1000.150000</td>\n",
       "      <td>-0.130000</td>\n",
       "      <td>105.790000</td>\n",
       "    </tr>\n",
       "    <tr>\n",
       "      <th>50%</th>\n",
       "      <td>14.000000</td>\n",
       "      <td>22.000000</td>\n",
       "      <td>54.500000</td>\n",
       "      <td>348.000000</td>\n",
       "      <td>338.000000</td>\n",
       "      <td>148.000000</td>\n",
       "      <td>20.690000</td>\n",
       "      <td>21.590000</td>\n",
       "      <td>1000.300000</td>\n",
       "      <td>-0.130000</td>\n",
       "      <td>108.320000</td>\n",
       "    </tr>\n",
       "    <tr>\n",
       "      <th>75%</th>\n",
       "      <td>20.500000</td>\n",
       "      <td>22.250000</td>\n",
       "      <td>55.500000</td>\n",
       "      <td>358.000000</td>\n",
       "      <td>361.000000</td>\n",
       "      <td>174.500000</td>\n",
       "      <td>20.690000</td>\n",
       "      <td>21.590000</td>\n",
       "      <td>1000.600000</td>\n",
       "      <td>-0.130000</td>\n",
       "      <td>109.580000</td>\n",
       "    </tr>\n",
       "    <tr>\n",
       "      <th>max</th>\n",
       "      <td>27.000000</td>\n",
       "      <td>22.400000</td>\n",
       "      <td>59.300000</td>\n",
       "      <td>1250.000000</td>\n",
       "      <td>889.000000</td>\n",
       "      <td>670.000000</td>\n",
       "      <td>20.690000</td>\n",
       "      <td>21.590000</td>\n",
       "      <td>1000.900000</td>\n",
       "      <td>-0.120000</td>\n",
       "      <td>114.200000</td>\n",
       "    </tr>\n",
       "  </tbody>\n",
       "</table>\n",
       "</div>"
      ],
      "text/plain": [
       "            Time  Inside-Temp   Humidity          Red       Green        Blue  \\\n",
       "count  27.000000    27.000000  27.000000    27.000000   27.000000   27.000000   \n",
       "mean   14.000000    22.048148  55.040741   343.407407  329.148148  163.370370   \n",
       "std     7.937254     0.231002   1.300373   220.928854  189.607226  141.090301   \n",
       "min     1.000000    21.700000  54.000000   159.000000  141.000000   61.000000   \n",
       "25%     7.500000    21.850000  54.100000   166.500000  152.000000   68.000000   \n",
       "50%    14.000000    22.000000  54.500000   348.000000  338.000000  148.000000   \n",
       "75%    20.500000    22.250000  55.500000   358.000000  361.000000  174.500000   \n",
       "max    27.000000    22.400000  59.300000  1250.000000  889.000000  670.000000   \n",
       "\n",
       "        Out-Temp  Out1-Temp     Pressure      Depth    Altitude  \n",
       "count  27.000000  27.000000    27.000000  27.000000   27.000000  \n",
       "mean   20.672222  21.588519  1000.362963  -0.129630  107.787037  \n",
       "std     0.027919   0.003620     0.323619   0.004369    2.722452  \n",
       "min    20.630000  21.580000   999.600000  -0.140000  103.270000  \n",
       "25%    20.630000  21.590000  1000.150000  -0.130000  105.790000  \n",
       "50%    20.690000  21.590000  1000.300000  -0.130000  108.320000  \n",
       "75%    20.690000  21.590000  1000.600000  -0.130000  109.580000  \n",
       "max    20.690000  21.590000  1000.900000  -0.120000  114.200000  "
      ]
     },
     "execution_count": 1533,
     "metadata": {},
     "output_type": "execute_result"
    }
   ],
   "source": [
    "data.describe()"
   ]
  },
  {
   "cell_type": "markdown",
   "metadata": {},
   "source": [
    "## Data Time"
   ]
  },
  {
   "cell_type": "code",
   "execution_count": 1534,
   "metadata": {},
   "outputs": [
    {
     "data": {
      "text/plain": [
       "<matplotlib.axes._subplots.AxesSubplot at 0x19484cb2860>"
      ]
     },
     "execution_count": 1534,
     "metadata": {},
     "output_type": "execute_result"
    },
    {
     "data": {
      "image/png": "[encoded data removed]",
      "text/plain": [
       "<Figure size 432x288 with 1 Axes>"
      ]
     },
     "metadata": {
      "needs_background": "light"
     },
     "output_type": "display_data"
    }
   ],
   "source": [
    "data[\"Out-Temp\"].plot(title=(\"Outer Temperature vs Time\"))"
   ]
  },
  {
   "cell_type": "code",
   "execution_count": 1535,
   "metadata": {},
   "outputs": [
    {
     "data": {
      "text/plain": [
       "<matplotlib.axes._subplots.AxesSubplot at 0x194852f0a20>"
      ]
     },
     "execution_count": 1535,
     "metadata": {},
     "output_type": "execute_result"
    },
    {
     "data": {
      "image/png": "[encoded data removed]",
      "text/plain": [
       "<Figure size 432x288 with 1 Axes>"
      ]
     },
     "metadata": {
      "needs_background": "light"
     },
     "output_type": "display_data"
    }
   ],
   "source": [
    "data[\"Inside-Temp\"].plot(x=data[\"Time\"],title=(\"Inner Temperature vs Time\"))"
   ]
  },
  {
   "cell_type": "code",
   "execution_count": 1536,
   "metadata": {},
   "outputs": [
    {
     "data": {
      "text/plain": [
       "<matplotlib.axes._subplots.AxesSubplot at 0x19487a38d30>"
      ]
     },
     "execution_count": 1536,
     "metadata": {},
     "output_type": "execute_result"
    },
    {
     "data": {
      "image/png": "[encoded data removed]",
      "text/plain": [
       "<Figure size 432x288 with 1 Axes>"
      ]
     },
     "metadata": {
      "needs_background": "light"
     },
     "output_type": "display_data"
    }
   ],
   "source": [
    "data[\"Depth\"].plot(x=data[\"Time\"],title=(\"Depth vs Time\"))"
   ]
  },
  {
   "cell_type": "code",
   "execution_count": 1537,
   "metadata": {},
   "outputs": [
    {
     "data": {
      "text/plain": [
       "<matplotlib.axes._subplots.AxesSubplot at 0x1949e852278>"
      ]
     },
     "execution_count": 1537,
     "metadata": {},
     "output_type": "execute_result"
    },
    {
     "data": {
      "image/png": "[encoded data removed]",
      "text/plain": [
       "<Figure size 432x288 with 1 Axes>"
      ]
     },
     "metadata": {
      "needs_background": "light"
     },
     "output_type": "display_data"
    }
   ],
   "source": [
    "data[\"Pressure\"].plot(x=data[\"Time\"],title=(\"Pressure vs Time\"))"
   ]
  },
  {
   "cell_type": "code",
   "execution_count": 1538,
   "metadata": {},
   "outputs": [
    {
     "data": {
      "text/plain": [
       "<matplotlib.axes._subplots.AxesSubplot at 0x19485de53c8>"
      ]
     },
     "execution_count": 1538,
     "metadata": {},
     "output_type": "execute_result"
    },
    {
     "data": {
      "image/png": "[encoded data removed]",
      "text/plain": [
       "<Figure size 432x288 with 1 Axes>"
      ]
     },
     "metadata": {
      "needs_background": "light"
     },
     "output_type": "display_data"
    }
   ],
   "source": [
    "data[\"Altitude\"].plot(x=data[\"Time\"],title=(\"Altitude vs Time\"))"
   ]
  },
  {
   "cell_type": "code",
   "execution_count": 1539,
   "metadata": {},
   "outputs": [],
   "source": [
    "dataRGB = data.loc[:,[\"Red\",\"Green\",\"Blue\"]]"
   ]
  },
  {
   "cell_type": "code",
   "execution_count": 1540,
   "metadata": {},
   "outputs": [],
   "source": [
    "dataRGB['Red'].values[dataRGB['Red'] > 1020] = 1020"
   ]
  },
  {
   "cell_type": "code",
   "execution_count": 1541,
   "metadata": {},
   "outputs": [],
   "source": [
    "dataRGB['Green'].values[dataRGB['Green'] > 1020] = 1020"
   ]
  },
  {
   "cell_type": "code",
   "execution_count": 1542,
   "metadata": {},
   "outputs": [],
   "source": [
    "dataRGB['Blue'].values[dataRGB['Blue'] > 1020] = 1020"
   ]
  },
  {
   "cell_type": "code",
   "execution_count": 1543,
   "metadata": {},
   "outputs": [],
   "source": [
    "dataRGBdiv4 = dataRGB.loc[:,[\"Red\",\"Green\",\"Blue\"]]"
   ]
  },
  {
   "cell_type": "code",
   "execution_count": 1544,
   "metadata": {},
   "outputs": [],
   "source": [
    "dataRGBdiv4 = (dataRGBdiv4 - (dataRGBdiv4 % 4))/4"
   ]
  },
  {
   "cell_type": "code",
   "execution_count": 1545,
   "metadata": {},
   "outputs": [],
   "source": [
    "dataRGB = dataRGBdiv4.astype(int)"
   ]
  },
  {
   "cell_type": "code",
   "execution_count": 1546,
   "metadata": {},
   "outputs": [],
   "source": [
    "subset = dataRGB[['Red', 'Green', 'Blue']]\n"
   ]
  },
  {
   "cell_type": "code",
   "execution_count": 1547,
   "metadata": {},
   "outputs": [],
   "source": [
    "tuples = []"
   ]
  },
  {
   "cell_type": "code",
   "execution_count": 1548,
   "metadata": {},
   "outputs": [],
   "source": [
    "tuples = [tuple(x) for x in subset.values]"
   ]
  },
  {
   "cell_type": "code",
   "execution_count": 1549,
   "metadata": {},
   "outputs": [],
   "source": [
    "dataRGB = dataRGB[dataRGB[\"Red\"] > 0]"
   ]
  },
  {
   "cell_type": "code",
   "execution_count": 1550,
   "metadata": {},
   "outputs": [],
   "source": [
    "dataRGB = dataRGB[dataRGB[\"Green\"] > 0]"
   ]
  },
  {
   "cell_type": "code",
   "execution_count": 1551,
   "metadata": {},
   "outputs": [],
   "source": [
    "dataRGB = dataRGB[dataRGB[\"Blue\"] > 0]"
   ]
  },
  {
   "cell_type": "code",
   "execution_count": 1552,
   "metadata": {},
   "outputs": [
    {
     "data": {
      "text/plain": [
       "<matplotlib.axes._subplots.AxesSubplot at 0x194f14d2198>"
      ]
     },
     "execution_count": 1552,
     "metadata": {},
     "output_type": "execute_result"
    },
    {
     "data": {
      "image/png": "[encoded data removed]",
      "text/plain": [
       "<Figure size 432x288 with 1 Axes>"
      ]
     },
     "metadata": {
      "needs_background": "light"
     },
     "output_type": "display_data"
    }
   ],
   "source": [
    "dataRGB.plot(color = ['r','g','b'], title=(\"RGB Values vs Time\"))"
   ]
  },
  {
   "cell_type": "code",
   "execution_count": 1553,
   "metadata": {},
   "outputs": [],
   "source": [
    "#tupleDF = pd.Series([(elem1, elem2, elem3) for elem1, elem2, elem3 in tuples])"
   ]
  },
  {
   "cell_type": "code",
   "execution_count": 1564,
   "metadata": {},
   "outputs": [],
   "source": [
    "dataRGBcombo = dataRGB[\"Red\"]+dataRGB[\"Green\"]+dataRGB[\"Blue\"]"
   ]
  },
  {
   "cell_type": "code",
   "execution_count": 1565,
   "metadata": {},
   "outputs": [],
   "source": [
    "dataRGBcombo = dataRGBcombo[1:31]"
   ]
  },
  {
   "cell_type": "code",
   "execution_count": 1566,
   "metadata": {
    "scrolled": true
   },
   "outputs": [
    {
     "data": {
      "text/plain": [
       "<matplotlib.axes._subplots.AxesSubplot at 0x1948a2a3a90>"
      ]
     },
     "execution_count": 1566,
     "metadata": {},
     "output_type": "execute_result"
    },
    {
     "data": {
      "image/png": "[encoded data removed]",
      "text/plain": [
       "<Figure size 432x288 with 1 Axes>"
      ]
     },
     "metadata": {
      "needs_background": "light"
     },
     "output_type": "display_data"
    }
   ],
   "source": [
    "dataRGBcombo.plot.bar(color=([0,1,1]),title=(\"Total RGB value (intensity)\"))"
   ]
  },
  {
   "cell_type": "code",
   "execution_count": 1567,
   "metadata": {},
   "outputs": [],
   "source": [
    "hex = []\n",
    "for i in range(len(tuples)):\n",
    "    a = '#%02x%02x%02x' % tuples[i]\n",
    "    hex.append(a)\n"
   ]
  },
  {
   "cell_type": "code",
   "execution_count": 1559,
   "metadata": {
    "scrolled": true
   },
   "outputs": [
    {
     "data": {
      "image/png": "[encoded data removed]",
      "text/plain": [
       "<Figure size 720x360 with 1 Axes>"
      ]
     },
     "metadata": {
      "needs_background": "light"
     },
     "output_type": "display_data"
    }
   ],
   "source": [
    "pos = len(tuples)\n",
    "barWidth = 1 \n",
    "fig, ax = plt.subplots(figsize=(10,5))\n",
    "i = 0 \n",
    "while (i < pos):\n",
    "    plt.bar((i), 20, width=barWidth, alpha=1, color=(hex[i])) \n",
    "    i = i + 1\n",
    "\n",
    "ax.set_ylabel('RGB')\n",
    "ax.set_title('RGB Color vs Time')\n",
    "ax.set_xticks([len(tuples)/4,len(tuples)/2,(3*len(tuples)/4)])\n",
    "\n",
    "plt.xlim([0,len(tuples)-.5])\n",
    "plt.ylim([0,20])\n",
    "\n",
    "plt.show()"
   ]
  },
  {
   "cell_type": "code",
   "execution_count": null,
   "metadata": {},
   "outputs": [],
   "source": []
  }
 ],
 "metadata": {
  "kernelspec": {
   "display_name": "Python 3",
   "language": "python",
   "name": "python3"
  },
  "language_info": {
   "codemirror_mode": {
    "name": "ipython",
    "version": 3
   },
   "file_extension": ".py",
   "mimetype": "text/x-python",
   "name": "python",
   "nbconvert_exporter": "python",
   "pygments_lexer": "ipython3",
   "version": "3.7.3"
  }
 },
 "nbformat": 4,
 "nbformat_minor": 2
}
