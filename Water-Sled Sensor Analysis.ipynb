{
 "cells": [
  {
   "cell_type": "markdown",
   "metadata": {},
   "source": [
    "## SET UP"
   ]
  },
  {
   "cell_type": "code",
   "execution_count": 1216,
   "metadata": {},
   "outputs": [],
   "source": [
    "import matplotlib.pyplot as plt"
   ]
  },
  {
   "cell_type": "code",
   "execution_count": 1217,
   "metadata": {},
   "outputs": [],
   "source": [
    "import numpy as np"
   ]
  },
  {
   "cell_type": "code",
   "execution_count": 1218,
   "metadata": {},
   "outputs": [],
   "source": [
    "import pandas as pd"
   ]
  },
  {
   "cell_type": "code",
   "execution_count": 1219,
   "metadata": {},
   "outputs": [],
   "source": [
    "data = pd.read_csv(\"DOC001.csv\")"
   ]
  },
  {
   "cell_type": "code",
   "execution_count": 1220,
   "metadata": {},
   "outputs": [
    {
     "data": {
      "text/html": [
       "<div>\n",
       "<style scoped>\n",
       "    .dataframe tbody tr th:only-of-type {\n",
       "        vertical-align: middle;\n",
       "    }\n",
       "\n",
       "    .dataframe tbody tr th {\n",
       "        vertical-align: top;\n",
       "    }\n",
       "\n",
       "    .dataframe thead th {\n",
       "        text-align: right;\n",
       "    }\n",
       "</style>\n",
       "<table border=\"1\" class=\"dataframe\">\n",
       "  <thead>\n",
       "    <tr style=\"text-align: right;\">\n",
       "      <th></th>\n",
       "      <th>Time</th>\n",
       "      <th>Inside-Temp</th>\n",
       "      <th>Humidity</th>\n",
       "      <th>Red</th>\n",
       "      <th>Green</th>\n",
       "      <th>Blue</th>\n",
       "      <th>Out-Temp</th>\n",
       "      <th>Out1-Temp</th>\n",
       "      <th>Pressure</th>\n",
       "      <th>Depth</th>\n",
       "      <th>Altitude</th>\n",
       "    </tr>\n",
       "  </thead>\n",
       "  <tbody>\n",
       "    <tr>\n",
       "      <th>count</th>\n",
       "      <td>16.000000</td>\n",
       "      <td>16.000000</td>\n",
       "      <td>16.000000</td>\n",
       "      <td>16.000000</td>\n",
       "      <td>16.000000</td>\n",
       "      <td>16.000000</td>\n",
       "      <td>16.00000</td>\n",
       "      <td>1.600000e+01</td>\n",
       "      <td>16.000000</td>\n",
       "      <td>1.600000e+01</td>\n",
       "      <td>16.000000</td>\n",
       "    </tr>\n",
       "    <tr>\n",
       "      <th>mean</th>\n",
       "      <td>8.500000</td>\n",
       "      <td>22.643750</td>\n",
       "      <td>63.056250</td>\n",
       "      <td>446.562500</td>\n",
       "      <td>390.875000</td>\n",
       "      <td>201.312500</td>\n",
       "      <td>20.68625</td>\n",
       "      <td>2.158000e+01</td>\n",
       "      <td>1000.300000</td>\n",
       "      <td>-1.300000e-01</td>\n",
       "      <td>108.316875</td>\n",
       "    </tr>\n",
       "    <tr>\n",
       "      <th>std</th>\n",
       "      <td>4.760952</td>\n",
       "      <td>0.141274</td>\n",
       "      <td>15.249829</td>\n",
       "      <td>218.919458</td>\n",
       "      <td>244.460733</td>\n",
       "      <td>121.038131</td>\n",
       "      <td>0.01500</td>\n",
       "      <td>7.338454e-15</td>\n",
       "      <td>0.233809</td>\n",
       "      <td>5.733167e-17</td>\n",
       "      <td>1.967990</td>\n",
       "    </tr>\n",
       "    <tr>\n",
       "      <th>min</th>\n",
       "      <td>1.000000</td>\n",
       "      <td>22.400000</td>\n",
       "      <td>53.400000</td>\n",
       "      <td>129.000000</td>\n",
       "      <td>120.000000</td>\n",
       "      <td>60.000000</td>\n",
       "      <td>20.63000</td>\n",
       "      <td>2.158000e+01</td>\n",
       "      <td>1000.000000</td>\n",
       "      <td>-1.300000e-01</td>\n",
       "      <td>104.950000</td>\n",
       "    </tr>\n",
       "    <tr>\n",
       "      <th>25%</th>\n",
       "      <td>4.750000</td>\n",
       "      <td>22.575000</td>\n",
       "      <td>54.225000</td>\n",
       "      <td>283.250000</td>\n",
       "      <td>174.750000</td>\n",
       "      <td>100.750000</td>\n",
       "      <td>20.69000</td>\n",
       "      <td>2.158000e+01</td>\n",
       "      <td>1000.100000</td>\n",
       "      <td>-1.300000e-01</td>\n",
       "      <td>106.630000</td>\n",
       "    </tr>\n",
       "    <tr>\n",
       "      <th>50%</th>\n",
       "      <td>8.500000</td>\n",
       "      <td>22.650000</td>\n",
       "      <td>55.550000</td>\n",
       "      <td>433.500000</td>\n",
       "      <td>289.500000</td>\n",
       "      <td>158.000000</td>\n",
       "      <td>20.69000</td>\n",
       "      <td>2.158000e+01</td>\n",
       "      <td>1000.250000</td>\n",
       "      <td>-1.300000e-01</td>\n",
       "      <td>108.740000</td>\n",
       "    </tr>\n",
       "    <tr>\n",
       "      <th>75%</th>\n",
       "      <td>12.250000</td>\n",
       "      <td>22.700000</td>\n",
       "      <td>62.800000</td>\n",
       "      <td>658.500000</td>\n",
       "      <td>661.500000</td>\n",
       "      <td>322.250000</td>\n",
       "      <td>20.69000</td>\n",
       "      <td>2.158000e+01</td>\n",
       "      <td>1000.500000</td>\n",
       "      <td>-1.300000e-01</td>\n",
       "      <td>110.000000</td>\n",
       "    </tr>\n",
       "    <tr>\n",
       "      <th>max</th>\n",
       "      <td>16.000000</td>\n",
       "      <td>23.000000</td>\n",
       "      <td>99.900000</td>\n",
       "      <td>728.000000</td>\n",
       "      <td>749.000000</td>\n",
       "      <td>393.000000</td>\n",
       "      <td>20.69000</td>\n",
       "      <td>2.158000e+01</td>\n",
       "      <td>1000.700000</td>\n",
       "      <td>-1.300000e-01</td>\n",
       "      <td>110.840000</td>\n",
       "    </tr>\n",
       "  </tbody>\n",
       "</table>\n",
       "</div>"
      ],
      "text/plain": [
       "            Time  Inside-Temp   Humidity         Red       Green        Blue  \\\n",
       "count  16.000000    16.000000  16.000000   16.000000   16.000000   16.000000   \n",
       "mean    8.500000    22.643750  63.056250  446.562500  390.875000  201.312500   \n",
       "std     4.760952     0.141274  15.249829  218.919458  244.460733  121.038131   \n",
       "min     1.000000    22.400000  53.400000  129.000000  120.000000   60.000000   \n",
       "25%     4.750000    22.575000  54.225000  283.250000  174.750000  100.750000   \n",
       "50%     8.500000    22.650000  55.550000  433.500000  289.500000  158.000000   \n",
       "75%    12.250000    22.700000  62.800000  658.500000  661.500000  322.250000   \n",
       "max    16.000000    23.000000  99.900000  728.000000  749.000000  393.000000   \n",
       "\n",
       "       Out-Temp     Out1-Temp     Pressure         Depth    Altitude  \n",
       "count  16.00000  1.600000e+01    16.000000  1.600000e+01   16.000000  \n",
       "mean   20.68625  2.158000e+01  1000.300000 -1.300000e-01  108.316875  \n",
       "std     0.01500  7.338454e-15     0.233809  5.733167e-17    1.967990  \n",
       "min    20.63000  2.158000e+01  1000.000000 -1.300000e-01  104.950000  \n",
       "25%    20.69000  2.158000e+01  1000.100000 -1.300000e-01  106.630000  \n",
       "50%    20.69000  2.158000e+01  1000.250000 -1.300000e-01  108.740000  \n",
       "75%    20.69000  2.158000e+01  1000.500000 -1.300000e-01  110.000000  \n",
       "max    20.69000  2.158000e+01  1000.700000 -1.300000e-01  110.840000  "
      ]
     },
     "execution_count": 1220,
     "metadata": {},
     "output_type": "execute_result"
    }
   ],
   "source": [
    "data.describe()"
   ]
  },
  {
   "cell_type": "markdown",
   "metadata": {},
   "source": [
    "## Restrictions--Data Normalizing  (Not RGB)"
   ]
  },
  {
   "cell_type": "code",
   "execution_count": 1221,
   "metadata": {},
   "outputs": [],
   "source": [
    "data = data[data[\"Inside-Temp\"] != -999]"
   ]
  },
  {
   "cell_type": "code",
   "execution_count": 1222,
   "metadata": {},
   "outputs": [],
   "source": [
    "data = data[data[\"Out-Temp\"] != 999]"
   ]
  },
  {
   "cell_type": "code",
   "execution_count": 1223,
   "metadata": {},
   "outputs": [
    {
     "data": {
      "text/html": [
       "<div>\n",
       "<style scoped>\n",
       "    .dataframe tbody tr th:only-of-type {\n",
       "        vertical-align: middle;\n",
       "    }\n",
       "\n",
       "    .dataframe tbody tr th {\n",
       "        vertical-align: top;\n",
       "    }\n",
       "\n",
       "    .dataframe thead th {\n",
       "        text-align: right;\n",
       "    }\n",
       "</style>\n",
       "<table border=\"1\" class=\"dataframe\">\n",
       "  <thead>\n",
       "    <tr style=\"text-align: right;\">\n",
       "      <th></th>\n",
       "      <th>Time</th>\n",
       "      <th>Inside-Temp</th>\n",
       "      <th>Humidity</th>\n",
       "      <th>Red</th>\n",
       "      <th>Green</th>\n",
       "      <th>Blue</th>\n",
       "      <th>Out-Temp</th>\n",
       "      <th>Out1-Temp</th>\n",
       "      <th>Pressure</th>\n",
       "      <th>Depth</th>\n",
       "      <th>Altitude</th>\n",
       "    </tr>\n",
       "  </thead>\n",
       "  <tbody>\n",
       "    <tr>\n",
       "      <th>count</th>\n",
       "      <td>16.000000</td>\n",
       "      <td>16.000000</td>\n",
       "      <td>16.000000</td>\n",
       "      <td>16.000000</td>\n",
       "      <td>16.000000</td>\n",
       "      <td>16.000000</td>\n",
       "      <td>16.00000</td>\n",
       "      <td>1.600000e+01</td>\n",
       "      <td>16.000000</td>\n",
       "      <td>1.600000e+01</td>\n",
       "      <td>16.000000</td>\n",
       "    </tr>\n",
       "    <tr>\n",
       "      <th>mean</th>\n",
       "      <td>8.500000</td>\n",
       "      <td>22.643750</td>\n",
       "      <td>63.056250</td>\n",
       "      <td>446.562500</td>\n",
       "      <td>390.875000</td>\n",
       "      <td>201.312500</td>\n",
       "      <td>20.68625</td>\n",
       "      <td>2.158000e+01</td>\n",
       "      <td>1000.300000</td>\n",
       "      <td>-1.300000e-01</td>\n",
       "      <td>108.316875</td>\n",
       "    </tr>\n",
       "    <tr>\n",
       "      <th>std</th>\n",
       "      <td>4.760952</td>\n",
       "      <td>0.141274</td>\n",
       "      <td>15.249829</td>\n",
       "      <td>218.919458</td>\n",
       "      <td>244.460733</td>\n",
       "      <td>121.038131</td>\n",
       "      <td>0.01500</td>\n",
       "      <td>7.338454e-15</td>\n",
       "      <td>0.233809</td>\n",
       "      <td>5.733167e-17</td>\n",
       "      <td>1.967990</td>\n",
       "    </tr>\n",
       "    <tr>\n",
       "      <th>min</th>\n",
       "      <td>1.000000</td>\n",
       "      <td>22.400000</td>\n",
       "      <td>53.400000</td>\n",
       "      <td>129.000000</td>\n",
       "      <td>120.000000</td>\n",
       "      <td>60.000000</td>\n",
       "      <td>20.63000</td>\n",
       "      <td>2.158000e+01</td>\n",
       "      <td>1000.000000</td>\n",
       "      <td>-1.300000e-01</td>\n",
       "      <td>104.950000</td>\n",
       "    </tr>\n",
       "    <tr>\n",
       "      <th>25%</th>\n",
       "      <td>4.750000</td>\n",
       "      <td>22.575000</td>\n",
       "      <td>54.225000</td>\n",
       "      <td>283.250000</td>\n",
       "      <td>174.750000</td>\n",
       "      <td>100.750000</td>\n",
       "      <td>20.69000</td>\n",
       "      <td>2.158000e+01</td>\n",
       "      <td>1000.100000</td>\n",
       "      <td>-1.300000e-01</td>\n",
       "      <td>106.630000</td>\n",
       "    </tr>\n",
       "    <tr>\n",
       "      <th>50%</th>\n",
       "      <td>8.500000</td>\n",
       "      <td>22.650000</td>\n",
       "      <td>55.550000</td>\n",
       "      <td>433.500000</td>\n",
       "      <td>289.500000</td>\n",
       "      <td>158.000000</td>\n",
       "      <td>20.69000</td>\n",
       "      <td>2.158000e+01</td>\n",
       "      <td>1000.250000</td>\n",
       "      <td>-1.300000e-01</td>\n",
       "      <td>108.740000</td>\n",
       "    </tr>\n",
       "    <tr>\n",
       "      <th>75%</th>\n",
       "      <td>12.250000</td>\n",
       "      <td>22.700000</td>\n",
       "      <td>62.800000</td>\n",
       "      <td>658.500000</td>\n",
       "      <td>661.500000</td>\n",
       "      <td>322.250000</td>\n",
       "      <td>20.69000</td>\n",
       "      <td>2.158000e+01</td>\n",
       "      <td>1000.500000</td>\n",
       "      <td>-1.300000e-01</td>\n",
       "      <td>110.000000</td>\n",
       "    </tr>\n",
       "    <tr>\n",
       "      <th>max</th>\n",
       "      <td>16.000000</td>\n",
       "      <td>23.000000</td>\n",
       "      <td>99.900000</td>\n",
       "      <td>728.000000</td>\n",
       "      <td>749.000000</td>\n",
       "      <td>393.000000</td>\n",
       "      <td>20.69000</td>\n",
       "      <td>2.158000e+01</td>\n",
       "      <td>1000.700000</td>\n",
       "      <td>-1.300000e-01</td>\n",
       "      <td>110.840000</td>\n",
       "    </tr>\n",
       "  </tbody>\n",
       "</table>\n",
       "</div>"
      ],
      "text/plain": [
       "            Time  Inside-Temp   Humidity         Red       Green        Blue  \\\n",
       "count  16.000000    16.000000  16.000000   16.000000   16.000000   16.000000   \n",
       "mean    8.500000    22.643750  63.056250  446.562500  390.875000  201.312500   \n",
       "std     4.760952     0.141274  15.249829  218.919458  244.460733  121.038131   \n",
       "min     1.000000    22.400000  53.400000  129.000000  120.000000   60.000000   \n",
       "25%     4.750000    22.575000  54.225000  283.250000  174.750000  100.750000   \n",
       "50%     8.500000    22.650000  55.550000  433.500000  289.500000  158.000000   \n",
       "75%    12.250000    22.700000  62.800000  658.500000  661.500000  322.250000   \n",
       "max    16.000000    23.000000  99.900000  728.000000  749.000000  393.000000   \n",
       "\n",
       "       Out-Temp     Out1-Temp     Pressure         Depth    Altitude  \n",
       "count  16.00000  1.600000e+01    16.000000  1.600000e+01   16.000000  \n",
       "mean   20.68625  2.158000e+01  1000.300000 -1.300000e-01  108.316875  \n",
       "std     0.01500  7.338454e-15     0.233809  5.733167e-17    1.967990  \n",
       "min    20.63000  2.158000e+01  1000.000000 -1.300000e-01  104.950000  \n",
       "25%    20.69000  2.158000e+01  1000.100000 -1.300000e-01  106.630000  \n",
       "50%    20.69000  2.158000e+01  1000.250000 -1.300000e-01  108.740000  \n",
       "75%    20.69000  2.158000e+01  1000.500000 -1.300000e-01  110.000000  \n",
       "max    20.69000  2.158000e+01  1000.700000 -1.300000e-01  110.840000  "
      ]
     },
     "execution_count": 1223,
     "metadata": {},
     "output_type": "execute_result"
    }
   ],
   "source": [
    "data.describe()"
   ]
  },
  {
   "cell_type": "markdown",
   "metadata": {},
   "source": [
    "## Data Time"
   ]
  },
  {
   "cell_type": "code",
   "execution_count": 1224,
   "metadata": {},
   "outputs": [
    {
     "data": {
      "text/plain": [
       "<matplotlib.axes._subplots.AxesSubplot at 0x194847bd198>"
      ]
     },
     "execution_count": 1224,
     "metadata": {},
     "output_type": "execute_result"
    },
    {
     "data": {
      "image/png": "[encoded data removed]",
      "text/plain": [
       "<Figure size 432x288 with 1 Axes>"
      ]
     },
     "metadata": {
      "needs_background": "light"
     },
     "output_type": "display_data"
    }
   ],
   "source": [
    "data[\"Out-Temp\"].plot()"
   ]
  },
  {
   "cell_type": "code",
   "execution_count": 1225,
   "metadata": {},
   "outputs": [
    {
     "data": {
      "text/plain": [
       "<matplotlib.axes._subplots.AxesSubplot at 0x19485436fd0>"
      ]
     },
     "execution_count": 1225,
     "metadata": {},
     "output_type": "execute_result"
    },
    {
     "data": {
      "image/png": "[encoded data removed]",
      "text/plain": [
       "<Figure size 432x288 with 1 Axes>"
      ]
     },
     "metadata": {
      "needs_background": "light"
     },
     "output_type": "display_data"
    }
   ],
   "source": [
    "data[\"Inside-Temp\"].plot(x=data[\"Time\"])"
   ]
  },
  {
   "cell_type": "code",
   "execution_count": 1248,
   "metadata": {},
   "outputs": [
    {
     "data": {
      "text/plain": [
       "<matplotlib.axes._subplots.AxesSubplot at 0x194857411d0>"
      ]
     },
     "execution_count": 1248,
     "metadata": {},
     "output_type": "execute_result"
    },
    {
     "data": {
      "image/png": "[encoded data removed]",
      "text/plain": [
       "<Figure size 432x288 with 1 Axes>"
      ]
     },
     "metadata": {
      "needs_background": "light"
     },
     "output_type": "display_data"
    }
   ],
   "source": [
    "data[\"Depth\"].plot(x=data[\"Time\"])"
   ]
  },
  {
   "cell_type": "code",
   "execution_count": 1249,
   "metadata": {},
   "outputs": [
    {
     "data": {
      "text/plain": [
       "<matplotlib.axes._subplots.AxesSubplot at 0x194e024df28>"
      ]
     },
     "execution_count": 1249,
     "metadata": {},
     "output_type": "execute_result"
    },
    {
     "data": {
      "image/png": "[encoded data removed]",
      "text/plain": [
       "<Figure size 432x288 with 1 Axes>"
      ]
     },
     "metadata": {
      "needs_background": "light"
     },
     "output_type": "display_data"
    }
   ],
   "source": [
    "data[\"Pressure\"].plot(x=data[\"Time\"])"
   ]
  },
  {
   "cell_type": "code",
   "execution_count": 1247,
   "metadata": {},
   "outputs": [
    {
     "data": {
      "text/plain": [
       "<matplotlib.axes._subplots.AxesSubplot at 0x19484ebfe10>"
      ]
     },
     "execution_count": 1247,
     "metadata": {},
     "output_type": "execute_result"
    },
    {
     "data": {
      "image/png": "[encoded data removed]",
      "text/plain": [
       "<Figure size 432x288 with 1 Axes>"
      ]
     },
     "metadata": {
      "needs_background": "light"
     },
     "output_type": "display_data"
    }
   ],
   "source": [
    "data[\"Altitude\"].plot(x=data[\"Time\"])"
   ]
  },
  {
   "cell_type": "code",
   "execution_count": 1226,
   "metadata": {},
   "outputs": [],
   "source": [
    "dataRGB = data.loc[:,[\"Red\",\"Green\",\"Blue\"]]"
   ]
  },
  {
   "cell_type": "code",
   "execution_count": 1227,
   "metadata": {},
   "outputs": [],
   "source": [
    "dataRGB['Red'].values[data['Red'] > 1020] = 1020"
   ]
  },
  {
   "cell_type": "code",
   "execution_count": 1228,
   "metadata": {},
   "outputs": [],
   "source": [
    "dataRGB['Green'].values[data['Green'] > 1020] = 1020"
   ]
  },
  {
   "cell_type": "code",
   "execution_count": 1229,
   "metadata": {},
   "outputs": [],
   "source": [
    "dataRGB['Blue'].values[data['Blue'] > 1020] = 1020"
   ]
  },
  {
   "cell_type": "code",
   "execution_count": 1230,
   "metadata": {},
   "outputs": [],
   "source": [
    "dataRGBdiv4 = data.loc[:,[\"Red\",\"Green\",\"Blue\"]]"
   ]
  },
  {
   "cell_type": "code",
   "execution_count": 1231,
   "metadata": {},
   "outputs": [],
   "source": [
    "dataRGBdiv4 = (dataRGBdiv4 - (dataRGBdiv4 % 4))/4"
   ]
  },
  {
   "cell_type": "code",
   "execution_count": 1232,
   "metadata": {},
   "outputs": [],
   "source": [
    "dataRGB = dataRGBdiv4.astype(int)"
   ]
  },
  {
   "cell_type": "code",
   "execution_count": 1233,
   "metadata": {},
   "outputs": [],
   "source": [
    "subset = dataRGB[['Red', 'Green', 'Blue']]\n"
   ]
  },
  {
   "cell_type": "code",
   "execution_count": 1234,
   "metadata": {},
   "outputs": [],
   "source": [
    "tuples = []"
   ]
  },
  {
   "cell_type": "code",
   "execution_count": 1235,
   "metadata": {},
   "outputs": [],
   "source": [
    "tuples = [tuple(x) for x in subset.values]"
   ]
  },
  {
   "cell_type": "code",
   "execution_count": 1236,
   "metadata": {},
   "outputs": [],
   "source": [
    "dataRGB = dataRGB[dataRGB[\"Red\"] > 0]"
   ]
  },
  {
   "cell_type": "code",
   "execution_count": 1237,
   "metadata": {},
   "outputs": [],
   "source": [
    "dataRGB = dataRGB[dataRGB[\"Green\"] > 0]"
   ]
  },
  {
   "cell_type": "code",
   "execution_count": 1238,
   "metadata": {},
   "outputs": [],
   "source": [
    "dataRGB = dataRGB[dataRGB[\"Blue\"] > 0]"
   ]
  },
  {
   "cell_type": "code",
   "execution_count": 1239,
   "metadata": {},
   "outputs": [
    {
     "data": {
      "text/plain": [
       "<matplotlib.axes._subplots.AxesSubplot at 0x194e4cd3630>"
      ]
     },
     "execution_count": 1239,
     "metadata": {},
     "output_type": "execute_result"
    },
    {
     "data": {
      "image/png": "[encoded data removed]",
      "text/plain": [
       "<Figure size 432x288 with 1 Axes>"
      ]
     },
     "metadata": {
      "needs_background": "light"
     },
     "output_type": "display_data"
    }
   ],
   "source": [
    "dataRGB.plot(color = ['r','g','b'])"
   ]
  },
  {
   "cell_type": "code",
   "execution_count": 1240,
   "metadata": {},
   "outputs": [],
   "source": [
    "#tupleDF = pd.Series([(elem1, elem2, elem3) for elem1, elem2, elem3 in tuples])"
   ]
  },
  {
   "cell_type": "code",
   "execution_count": 1241,
   "metadata": {},
   "outputs": [],
   "source": [
    "dataRGBcombo = data[\"Red\"]+data[\"Green\"]+data[\"Blue\"]"
   ]
  },
  {
   "cell_type": "code",
   "execution_count": 1242,
   "metadata": {},
   "outputs": [],
   "source": [
    "dataRGBcombo = dataRGBcombo[1:31]"
   ]
  },
  {
   "cell_type": "code",
   "execution_count": 1243,
   "metadata": {},
   "outputs": [],
   "source": [
    "dataRGBcombo.columns = ['TotalRGB']"
   ]
  },
  {
   "cell_type": "code",
   "execution_count": 1244,
   "metadata": {
    "scrolled": true
   },
   "outputs": [
    {
     "data": {
      "text/plain": [
       "<matplotlib.axes._subplots.AxesSubplot at 0x194845529e8>"
      ]
     },
     "execution_count": 1244,
     "metadata": {},
     "output_type": "execute_result"
    },
    {
     "data": {
      "image/png": "[encoded data removed]",
      "text/plain": [
       "<Figure size 432x288 with 1 Axes>"
      ]
     },
     "metadata": {
      "needs_background": "light"
     },
     "output_type": "display_data"
    }
   ],
   "source": [
    "dataRGBcombo.plot.bar(color=([0,1,1]),title=(\"Total RGB value (intensity)\"))"
   ]
  },
  {
   "cell_type": "code",
   "execution_count": 1245,
   "metadata": {},
   "outputs": [],
   "source": [
    "hex = []\n",
    "for i in range(len(tuples)):\n",
    "    a = '#%02x%02x%02x' % tuples[i]\n",
    "    hex.append(a)\n"
   ]
  },
  {
   "cell_type": "code",
   "execution_count": 1246,
   "metadata": {},
   "outputs": [
    {
     "data": {
      "image/png": "[encoded data removed]",
      "text/plain": [
       "<Figure size 720x360 with 1 Axes>"
      ]
     },
     "metadata": {
      "needs_background": "light"
     },
     "output_type": "display_data"
    }
   ],
   "source": [
    "pos = len(tuples)\n",
    "barWidth = 1 \n",
    "fig, ax = plt.subplots(figsize=(10,5))\n",
    "i = 0 \n",
    "while (i < pos):\n",
    "    plt.bar((i), 20, width=barWidth, alpha=1, color=(hex[i])) \n",
    "    i = i + 1\n",
    "\n",
    "ax.set_ylabel('RGB')\n",
    "ax.set_title('RGB over time')\n",
    "ax.set_xticks([len(tuples)/4,len(tuples)/2,(3*len(tuples)/4),26.5])\n",
    "\n",
    "plt.xlim([0,len(tuples)])\n",
    "plt.ylim([0,20])\n",
    "\n",
    "plt.show()"
   ]
  }
 ],
 "metadata": {
  "kernelspec": {
   "display_name": "Python 3",
   "language": "python",
   "name": "python3"
  },
  "language_info": {
   "codemirror_mode": {
    "name": "ipython",
    "version": 3
   },
   "file_extension": ".py",
   "mimetype": "text/x-python",
   "name": "python",
   "nbconvert_exporter": "python",
   "pygments_lexer": "ipython3",
   "version": "3.7.3"
  }
 },
 "nbformat": 4,
 "nbformat_minor": 2
}
